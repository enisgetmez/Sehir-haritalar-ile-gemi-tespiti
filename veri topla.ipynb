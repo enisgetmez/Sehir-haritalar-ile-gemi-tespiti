{
 "cells": [
  {
   "cell_type": "code",
   "execution_count": 1,
   "metadata": {},
   "outputs": [],
   "source": [
    "import json\n",
    "import pandas as pd\n",
    "from urllib.parse import urlparse\n",
    "import urllib.request\n",
    "import requests"
   ]
  },
  {
   "cell_type": "code",
   "execution_count": 2,
   "metadata": {},
   "outputs": [],
   "source": [
    "#Har dosyasında bulunan verileri topluyoruz\n",
    "pd.options.display.max_rows = 400\n",
    "pd.set_option('display.max_colwidth', 200)\n",
    "\n",
    "with open('sehirharitasi.ibb.gov.tr.har', encoding=\"utf8\") as f:\n",
    "    data = json.load(f) #har dosyamızı json formatına çeviriyoruz.\n",
    "\n",
    "collection = []\n",
    "#har dosyasında entries içerisinde bulunan request tablolarına oradanda url tablolarına erişiyoruz.\n",
    "for entry in data['log']['entries']: \n",
    "    parse_object = urlparse(entry['request']['url']) \n",
    "    item = {\n",
    "        'url': entry['request']['url'],\n",
    "    }\n",
    "    collection.append(item) #url tablolarını liste olarak kaydediyoruz.\n",
    "\n",
    "df = pd.DataFrame(collection)"
   ]
  },
  {
   "cell_type": "code",
   "execution_count": 3,
   "metadata": {},
   "outputs": [],
   "source": [
    "resim_sayi = 0\n",
    "# save fonksiyonumuz içerisinde resimleri topluyoruz ve 1'den başlayarak isimlendirip, jpg formatında kaydediyoruz. \n",
    "def save(url): \n",
    "    global resim_sayi\n",
    "    fname = str(resim_sayi) + \".jpg\"\n",
    "    r = requests.get(url, stream=True)\n",
    "    if r.ok:\n",
    "        with open(\"photos/\" + fname, 'wb') as f:\n",
    "            resim_sayi +=1\n",
    "            f.write(r.content)\n",
    "        "
   ]
  },
  {
   "cell_type": "code",
   "execution_count": null,
   "metadata": {},
   "outputs": [],
   "source": [
    "#url içerisinde sadece jpg formatında olanları ayıklayıp save fonksiyonumuza yollayarak kaydedilmesini sağlıyoruz.\n",
    "for i in range(len(df['url'])):\n",
    "    kaynak= df['url'][i]\n",
    "    if(kaynak.find(\".jpg\") !=-1):\n",
    "        print(kaynak)\n",
    "        save(kaynak)\n"
   ]
  },
  {
   "cell_type": "code",
   "execution_count": null,
   "metadata": {},
   "outputs": [],
   "source": []
  }
 ],
 "metadata": {
  "kernelspec": {
   "display_name": "Python 3",
   "language": "python",
   "name": "python3"
  }
 },
 "nbformat": 4,
 "nbformat_minor": 4
}
